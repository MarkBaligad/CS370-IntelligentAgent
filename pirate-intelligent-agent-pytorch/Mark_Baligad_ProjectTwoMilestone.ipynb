{
 "cells": [
  {
   "cell_type": "markdown",
   "metadata": {},
   "source": [
    "# Treasure Hunt Game Notebook\n",
    "\n",
    "## Read and Review Your Starter Code\n",
    "The theme of this project is a popular treasure hunt game in which the player needs to find the treasure before the pirate does. While you will not be developing the entire game, you will write the part of the game that represents the intelligent agent, which is a pirate in this case. The pirate will try to find the optimal path to the treasure using deep Q-learning. \n",
    "\n",
    "You have been provided with two Python classes and this notebook to help you with this assignment. The first class, TreasureMaze.py, represents the environment, which includes a maze object defined as a matrix. The second class, GameExperience.py, stores the episodes – that is, all the states that come in between the initial state and the terminal state. This is later used by the agent for learning by experience, called \"exploration\". This notebook shows how to play a game. Your task is to complete the deep Q-learning implementation for which a skeleton implementation has been provided. The code blocks you will need to complete has #TODO as a header.\n",
    "\n",
    "First, read and review the next few code and instruction blocks to understand the code that you have been given."
   ]
  },
  {
   "cell_type": "code",
   "execution_count": 49,
   "metadata": {
    "ExecuteTime": {
     "end_time": "2025-10-16T03:41:10.064441Z",
     "start_time": "2025-10-16T03:41:09.882945Z"
    }
   },
   "outputs": [
    {
     "name": "stdout",
     "output_type": "stream",
     "text": [
      "/bin/bash: warning: setlocale: LC_ALL: cannot change locale (en_US.UTF-8)\r\n",
      "/bin/bash: line 1: pip: command not found\r\n"
     ]
    }
   ],
   "source": [
    "!pip install -r requirements.txt"
   ]
  },
  {
   "cell_type": "code",
   "execution_count": 50,
   "metadata": {
    "ExecuteTime": {
     "end_time": "2025-10-16T03:41:10.074924Z",
     "start_time": "2025-10-16T03:41:10.070017Z"
    }
   },
   "outputs": [
    {
     "name": "stdout",
     "output_type": "stream",
     "text": [
      "Using device: cuda\n",
      "GPU: NVIDIA GeForce RTX 5090 Laptop GPU\n",
      "CUDA Version: 12.8\n"
     ]
    }
   ],
   "source": [
    "from __future__ import print_function\n",
    "import os, sys, time, datetime, json, random\n",
    "import numpy as np\n",
    "import matplotlib.pyplot as plt\n",
    "import torch\n",
    "import torch.nn as nn\n",
    "import torch.optim as optim\n",
    "import copy\n",
    "from TreasureMaze import TreasureMaze\n",
    "from GameExperience import GameExperience\n",
    "%matplotlib inline\n",
    "\n",
    "# Check for GPU availability\n",
    "device = torch.device('cuda' if torch.cuda.is_available() else 'cpu')\n",
    "print(f\"Using device: {device}\")\n",
    "if torch.cuda.is_available():\n",
    "    print(f\"GPU: {torch.cuda.get_device_name(0)}\")\n",
    "    print(f\"CUDA Version: {torch.version.cuda}\")\n",
    "\n",
    "## Ignore the warnings below"
   ]
  },
  {
   "cell_type": "markdown",
   "metadata": {},
   "source": [
    "The following code block contains an 8x8 matrix that will be used as a maze object:"
   ]
  },
  {
   "cell_type": "code",
   "execution_count": 51,
   "metadata": {
    "ExecuteTime": {
     "end_time": "2025-10-16T03:41:10.125502Z",
     "start_time": "2025-10-16T03:41:10.123092Z"
    }
   },
   "outputs": [],
   "source": [
    "maze = np.array([\n",
    "    [ 1.,  0.,  1.,  1.,  1.,  1.,  1.,  1.],\n",
    "    [ 1.,  0.,  1.,  1.,  1.,  0.,  1.,  1.],\n",
    "    [ 1.,  1.,  1.,  1.,  0.,  1.,  0.,  1.],\n",
    "    [ 1.,  1.,  1.,  0.,  1.,  1.,  1.,  1.],\n",
    "    [ 1.,  1.,  0.,  1.,  1.,  1.,  1.,  1.],\n",
    "    [ 1.,  1.,  1.,  0.,  1.,  0.,  0.,  0.],\n",
    "    [ 1.,  1.,  1.,  0.,  1.,  1.,  1.,  1.],\n",
    "    [ 1.,  1.,  1.,  1.,  0.,  1.,  1.,  1.]\n",
    "])"
   ]
  },
  {
   "cell_type": "markdown",
   "metadata": {},
   "source": [
    "This helper function allows a visual representation of the maze object:"
   ]
  },
  {
   "cell_type": "code",
   "execution_count": 52,
   "metadata": {
    "ExecuteTime": {
     "end_time": "2025-10-16T03:41:10.172364Z",
     "start_time": "2025-10-16T03:41:10.169392Z"
    }
   },
   "outputs": [],
   "source": [
    "def show(qmaze):\n",
    "    plt.grid('on')\n",
    "    nrows, ncols = qmaze.maze.shape\n",
    "    ax = plt.gca()\n",
    "    ax.set_xticks(np.arange(0.5, nrows, 1))\n",
    "    ax.set_yticks(np.arange(0.5, ncols, 1))\n",
    "    ax.set_xticklabels([])\n",
    "    ax.set_yticklabels([])\n",
    "    canvas = np.copy(qmaze.maze)\n",
    "    for row,col in qmaze.visited:\n",
    "        canvas[row,col] = 0.6\n",
    "    pirate_row, pirate_col, _ = qmaze.state\n",
    "    canvas[pirate_row, pirate_col] = 0.3   # pirate cell\n",
    "    canvas[nrows-1, ncols-1] = 0.9 # treasure cell\n",
    "    img = plt.imshow(canvas, interpolation='none', cmap='gray')\n",
    "    return img"
   ]
  },
  {
   "cell_type": "markdown",
   "metadata": {},
   "source": [
    "The pirate agent can move in four directions: left, right, up, and down. \n",
    "\n",
    "While the agent primarily learns by experience through exploitation, often, the agent can choose to explore the environment to find previously undiscovered paths. This is called \"exploration\" and is defined by epsilon. This value is typically a lower value such as 0.1, which means for every ten attempts, the agent will attempt to learn by experience nine times and will randomly explore a new path one time. You are encouraged to try various values for the exploration factor and see how the algorithm performs."
   ]
  },
  {
   "cell_type": "code",
   "execution_count": 53,
   "metadata": {
    "ExecuteTime": {
     "end_time": "2025-10-16T03:41:10.219799Z",
     "start_time": "2025-10-16T03:41:10.217637Z"
    }
   },
   "outputs": [],
   "source": [
    "LEFT = 0\n",
    "UP = 1\n",
    "RIGHT = 2\n",
    "DOWN = 3\n",
    "\n",
    "# Actions dictionary\n",
    "actions_dict = {\n",
    "    LEFT: 'left',\n",
    "    UP: 'up',\n",
    "    RIGHT: 'right',\n",
    "    DOWN: 'down',\n",
    "}\n",
    "\n",
    "num_actions = len(actions_dict)"
   ]
  },
  {
   "cell_type": "markdown",
   "metadata": {},
   "source": [
    "The sample code block and output below show creating a maze object and performing one action (DOWN), which returns the reward. The resulting updated environment is visualized."
   ]
  },
  {
   "cell_type": "code",
   "execution_count": 54,
   "metadata": {
    "ExecuteTime": {
     "end_time": "2025-10-16T03:41:10.313182Z",
     "start_time": "2025-10-16T03:41:10.265917Z"
    }
   },
   "outputs": [
    {
     "name": "stdout",
     "output_type": "stream",
     "text": [
      "reward= -0.04\n"
     ]
    },
    {
     "data": {
      "text/plain": [
       "<matplotlib.image.AxesImage at 0x7fe78e33deb0>"
      ]
     },
     "execution_count": 54,
     "metadata": {},
     "output_type": "execute_result"
    },
    {
     "data": {
      "image/png": "[encoded data removed]",
      "text/plain": [
       "<Figure size 640x480 with 1 Axes>"
      ]
     },
     "jetTransient": {
      "display_id": null
     },
     "metadata": {},
     "output_type": "display_data"
    }
   ],
   "source": [
    "qmaze = TreasureMaze(maze)\n",
    "canvas, reward, game_over = qmaze.act(DOWN)\n",
    "print(\"reward=\", reward)\n",
    "show(qmaze)"
   ]
  },
  {
   "cell_type": "markdown",
   "metadata": {},
   "source": [
    "This function simulates a full game based on the provided trained model. The other parameters include the TreasureMaze object and the starting position of the pirate."
   ]
  },
  {
   "cell_type": "code",
   "execution_count": 55,
   "metadata": {
    "ExecuteTime": {
     "end_time": "2025-10-16T03:41:10.336480Z",
     "start_time": "2025-10-16T03:41:10.333877Z"
    }
   },
   "outputs": [],
   "source": [
    "def play_game(model, qmaze, pirate_cell):\n",
    "    \"\"\"Play a single game using the trained model\"\"\"\n",
    "    qmaze.reset(pirate_cell)\n",
    "    envstate = qmaze.observe()\n",
    "    while True:\n",
    "        prev_envstate = envstate\n",
    "        # get next action\n",
    "        with torch.no_grad():\n",
    "            state_tensor = torch.FloatTensor(prev_envstate).to(device)\n",
    "            q = model(state_tensor)\n",
    "            action = torch.argmax(q[0]).item()\n",
    "\n",
    "        # apply action, get rewards and new state\n",
    "        envstate, reward, game_status = qmaze.act(action)\n",
    "        if game_status == 'win':\n",
    "            return True\n",
    "        elif game_status == 'lose':\n",
    "            return False"
   ]
  },
  {
   "cell_type": "markdown",
   "metadata": {},
   "source": [
    "This function helps you to determine whether the pirate can win any game at all. If your maze is not well designed, the pirate may not win any game at all. In this case, your training would not yield any result. The provided maze in this notebook ensures that there is a path to win and you can run this method to check."
   ]
  },
  {
   "cell_type": "code",
   "execution_count": 56,
   "metadata": {
    "ExecuteTime": {
     "end_time": "2025-10-16T03:41:10.387681Z",
     "start_time": "2025-10-16T03:41:10.385157Z"
    }
   },
   "outputs": [],
   "source": [
    "def completion_check(model, qmaze):\n",
    "    \"\"\"Check if the model can win from all starting positions\"\"\"\n",
    "    for cell in qmaze.free_cells:\n",
    "        if not qmaze.valid_actions(cell):\n",
    "            return False\n",
    "        if not play_game(model, qmaze, cell):\n",
    "            return False\n",
    "    return True"
   ]
  },
  {
   "cell_type": "markdown",
   "metadata": {},
   "source": [
    "The code you have been given in this block will build the neural network model. Review the code and note the number of layers, as well as the activation, optimizer, and loss functions that are used to train the model."
   ]
  },
  {
   "cell_type": "code",
   "execution_count": 57,
   "metadata": {
    "ExecuteTime": {
     "end_time": "2025-10-16T03:41:10.437444Z",
     "start_time": "2025-10-16T03:41:10.433757Z"
    }
   },
   "outputs": [],
   "source": [
    "# PyTorch Q-Network Model\n",
    "class QNetwork(nn.Module):\n",
    "    def __init__(self, input_size, num_actions):\n",
    "        super(QNetwork, self).__init__()\n",
    "        self.num_actions = num_actions\n",
    "\n",
    "        self.fc1 = nn.Linear(input_size, input_size)\n",
    "        self.prelu1 = nn.PReLU()\n",
    "        self.fc2 = nn.Linear(input_size, input_size)\n",
    "        self.prelu2 = nn.PReLU()\n",
    "        self.fc3 = nn.Linear(input_size, num_actions)\n",
    "\n",
    "    def forward(self, x):\n",
    "        x = self.fc1(x)\n",
    "        x = self.prelu1(x)\n",
    "        x = self.fc2(x)\n",
    "        x = self.prelu2(x)\n",
    "        x = self.fc3(x)\n",
    "        return x\n",
    "\n",
    "def build_model(maze):\n",
    "    \"\"\"Build PyTorch Q-Network\"\"\"\n",
    "    model = QNetwork(maze.size, num_actions).to(device)\n",
    "    return model"
   ]
  },
  {
   "cell_type": "code",
   "execution_count": 59,
   "metadata": {
    "ExecuteTime": {
     "end_time": "2025-10-16T03:41:10.541514Z",
     "start_time": "2025-10-16T03:41:10.533321Z"
    }
   },
   "outputs": [],
   "source": [
    "def qtrain(model, maze, **opt):\n",
    "    \"\"\"\n",
    "    Train the Q-Network using deep Q-learning with PyTorch\n",
    "    \"\"\"\n",
    "    # number of epochs\n",
    "    n_epoch = opt.get('n_epoch', 1000)\n",
    "\n",
    "    # maximum memory to store episodes\n",
    "    max_memory = opt.get('max_memory', 15000)\n",
    "\n",
    "    # maximum data size for training\n",
    "    data_size = opt.get('data_size', 32)\n",
    "\n",
    "    # frequency of target network updates\n",
    "    target_update_freq = opt.get('target_update_freq', 50)\n",
    "\n",
    "    # start time\n",
    "    start_time = datetime.datetime.now()\n",
    "\n",
    "    # Construct environment/game from numpy array: maze\n",
    "    qmaze = TreasureMaze(maze)\n",
    "\n",
    "    # Create target network for stable Q-learning\n",
    "    target_model = copy.deepcopy(model)\n",
    "    target_model.load_state_dict(model.state_dict())\n",
    "    target_model.eval()\n",
    "\n",
    "    # Initialize experience replay object with target network\n",
    "    experience = GameExperience(model, target_model, max_memory=max_memory, device=device)\n",
    "\n",
    "    win_history = []   # history of win/lose game\n",
    "    hsize = qmaze.maze.size//2   # history window size\n",
    "    win_rate = 0.0\n",
    "\n",
    "    # Epsilon decay parameters\n",
    "    epsilon = 0.9  # Start with 90% exploration\n",
    "    epsilon_min = 0.1  # Minimum exploration rate\n",
    "    epsilon_decay = 0.99  # Decay rate per epoch\n",
    "\n",
    "    # Define optimizer and loss function\n",
    "    optimizer = optim.Adam(model.parameters(), lr=0.001)\n",
    "    criterion = nn.MSELoss()\n",
    "\n",
    "    # Training loop\n",
    "    for epoch in range(n_epoch):\n",
    "        loss_value = 0.0\n",
    "        # choose a random free cell to start\n",
    "        agent_cell = random.choice(qmaze.free_cells)\n",
    "        qmaze.reset(agent_cell)\n",
    "        # get the initial state of the environment\n",
    "        envstate = qmaze.observe()\n",
    "        n_steps = 0\n",
    "        game_over = False\n",
    "\n",
    "        # episode of game play\n",
    "        while not game_over:\n",
    "            # get valid actions in the current state\n",
    "            valid_actions = qmaze.valid_actions()\n",
    "            if not valid_actions:\n",
    "                break\n",
    "\n",
    "            prev_envstate = envstate\n",
    "\n",
    "            # choose action by exploration or exploitation\n",
    "            if np.random.rand() < epsilon:\n",
    "                # explore: select a random valid action\n",
    "                action = random.choice(valid_actions)\n",
    "            else:\n",
    "                # exploit: select the action with max Q value\n",
    "                with torch.no_grad():\n",
    "                    state_tensor = torch.FloatTensor(prev_envstate).to(device)\n",
    "                    q_values = model(state_tensor)\n",
    "                    action = torch.argmax(q_values[0]).item()\n",
    "\n",
    "            # apply action, get rewards and new game status\n",
    "            envstate, reward, game_status = qmaze.act(action)\n",
    "\n",
    "            # determine if game is over (boolean for GameExperience)\n",
    "            game_over = (game_status == 'win') or (game_status == 'lose')\n",
    "\n",
    "            # store the episode with game_over as boolean\n",
    "            episode = [prev_envstate, action, reward, envstate, game_over]\n",
    "            experience.remember(episode)\n",
    "\n",
    "            n_steps += 1\n",
    "\n",
    "            # Train\n",
    "            if len(experience.memory) >= data_size:\n",
    "                inputs, targets = experience.get_data(data_size=data_size)\n",
    "\n",
    "                # Convert to PyTorch tensors\n",
    "                inputs_tensor = torch.FloatTensor(inputs).to(device)\n",
    "                targets_tensor = torch.FloatTensor(targets).to(device)\n",
    "\n",
    "                # Forward pass\n",
    "                model.train()\n",
    "                predictions = model(inputs_tensor)\n",
    "\n",
    "                # Compute loss\n",
    "                loss = criterion(predictions, targets_tensor)\n",
    "\n",
    "                # Backward pass and optimize\n",
    "                optimizer.zero_grad()\n",
    "                loss.backward()\n",
    "                optimizer.step()\n",
    "\n",
    "                loss_value = loss.item()\n",
    "\n",
    "        # record win/loss in history after episode completes\n",
    "        if game_status == 'win':\n",
    "            win_history.append(1)\n",
    "        elif game_status == 'lose':\n",
    "            win_history.append(0)\n",
    "\n",
    "        # Update target network periodically\n",
    "        if epoch % target_update_freq == 0:\n",
    "            target_model.load_state_dict(model.state_dict())\n",
    "\n",
    "        # calculate win rate\n",
    "        if len(win_history) > hsize:\n",
    "            win_rate = sum(win_history[-hsize:]) / hsize\n",
    "        else:\n",
    "            win_rate = sum(win_history) / len(win_history) if len(win_history) > 0 else 0.0\n",
    "\n",
    "        # Decay epsilon after each epoch\n",
    "        if epsilon > epsilon_min:\n",
    "            epsilon *= epsilon_decay\n",
    "\n",
    "        # Print the epoch, loss, episodes, win count, and win rate for each epoch\n",
    "        dt = datetime.datetime.now() - start_time\n",
    "        t = format_time(dt.total_seconds())\n",
    "        template = \"Epoch: {:03d}/{:d} | Loss: {:.4f} | Steps: {:d} | Win count: {:d} | Win rate: {:.3f} | epsilon: {:.3f} | time: {}\"\n",
    "        print(template.format(epoch, n_epoch-1, loss_value, n_steps, sum(win_history), win_rate, epsilon, t))\n",
    "\n",
    "        # check if training has exhausted all free cells and if in all cases the agent won\n",
    "        if sum(win_history[-hsize:]) == hsize and completion_check(model, qmaze):\n",
    "            print(\"Reached 100%% win rate at epoch: %d\" % (epoch,))\n",
    "            break\n",
    "\n",
    "    # Determine the total time for training\n",
    "    dt = datetime.datetime.now() - start_time\n",
    "    seconds = dt.total_seconds()\n",
    "    t = format_time(seconds)\n",
    "\n",
    "    print(\"n_epoch: %d, max_mem: %d, data: %d, time: %s\" % (epoch, max_memory, data_size, t))\n",
    "    return seconds"
   ]
  },
  {
   "cell_type": "markdown",
   "metadata": {},
   "source": [
    "## Test Your Model\n",
    "\n",
    "Now we will start testing the deep Q-learning implementation. To begin, select **Cell**, then **Run All** from the menu bar. This will run your notebook. As it runs, you should see output begin to appear beneath the next few cells. The code below creates an instance of TreasureMaze."
   ]
  },
  {
   "cell_type": "code",
   "execution_count": 60,
   "metadata": {
    "ExecuteTime": {
     "end_time": "2025-10-16T03:41:10.621078Z",
     "start_time": "2025-10-16T03:41:10.584704Z"
    }
   },
   "outputs": [
    {
     "data": {
      "text/plain": [
       "<matplotlib.image.AxesImage at 0x7fe78dfd9f70>"
      ]
     },
     "execution_count": 60,
     "metadata": {},
     "output_type": "execute_result"
    },
    {
     "data": {
      "image/png": "[encoded data removed]",
      "text/plain": [
       "<Figure size 640x480 with 1 Axes>"
      ]
     },
     "jetTransient": {
      "display_id": null
     },
     "metadata": {},
     "output_type": "display_data"
    }
   ],
   "source": [
    "qmaze = TreasureMaze(maze)\n",
    "show(qmaze)"
   ]
  },
  {
   "cell_type": "markdown",
   "metadata": {},
   "source": [
    "In the next code block, you will build your model and train it using deep Q-learning. Note: This step takes several minutes to fully run."
   ]
  },
  {
   "cell_type": "code",
   "execution_count": 61,
   "metadata": {
    "ExecuteTime": {
     "end_time": "2025-10-16T03:41:10.649480Z",
     "start_time": "2025-10-16T03:41:10.646695Z"
    }
   },
   "outputs": [],
   "source": [
    "def randomly_select_free_cell(qmaze):\n",
    "    # Find all free (non-wall) cells in the maze\n",
    "    free_cells = [(r, c) for r in range(qmaze.rows)\n",
    "                         for c in range(qmaze.cols)\n",
    "                         if qmaze.maze[r, c] == 0]  # assuming 0 means free\n",
    "    return random.choice(free_cells)"
   ]
  },
  {
   "cell_type": "code",
   "execution_count": 62,
   "metadata": {
    "ExecuteTime": {
     "end_time": "2025-10-16T03:47:32.413583Z",
     "start_time": "2025-10-16T03:41:10.694145Z"
    }
   },
   "outputs": [
    {
     "name": "stdout",
     "output_type": "stream",
     "text": [
      "Epoch: 000/999 | Loss: 0.0014 | Steps: 144 | Win count: 0 | Win rate: 0.000 | epsilon: 0.891 | time: 1.9 seconds\n",
      "Epoch: 001/999 | Loss: 0.0019 | Steps: 155 | Win count: 0 | Win rate: 0.000 | epsilon: 0.882 | time: 4.5 seconds\n",
      "Epoch: 002/999 | Loss: 0.0018 | Steps: 145 | Win count: 0 | Win rate: 0.000 | epsilon: 0.873 | time: 7.0 seconds\n",
      "Epoch: 003/999 | Loss: 0.0016 | Steps: 160 | Win count: 0 | Win rate: 0.000 | epsilon: 0.865 | time: 9.6 seconds\n",
      "Epoch: 004/999 | Loss: 0.0014 | Steps: 140 | Win count: 0 | Win rate: 0.000 | epsilon: 0.856 | time: 11.9 seconds\n",
      "Epoch: 005/999 | Loss: 0.0017 | Steps: 68 | Win count: 1 | Win rate: 0.167 | epsilon: 0.847 | time: 13.0 seconds\n",
      "Epoch: 006/999 | Loss: 0.0018 | Steps: 160 | Win count: 2 | Win rate: 0.286 | epsilon: 0.839 | time: 15.6 seconds\n",
      "Epoch: 007/999 | Loss: 0.0013 | Steps: 62 | Win count: 3 | Win rate: 0.375 | epsilon: 0.830 | time: 16.6 seconds\n",
      "Epoch: 008/999 | Loss: 0.0018 | Steps: 147 | Win count: 3 | Win rate: 0.333 | epsilon: 0.822 | time: 18.9 seconds\n",
      "Epoch: 009/999 | Loss: 0.0018 | Steps: 142 | Win count: 3 | Win rate: 0.300 | epsilon: 0.814 | time: 21.2 seconds\n",
      "Epoch: 010/999 | Loss: 0.0016 | Steps: 144 | Win count: 3 | Win rate: 0.273 | epsilon: 0.806 | time: 23.5 seconds\n",
      "Epoch: 011/999 | Loss: 0.0029 | Steps: 1 | Win count: 4 | Win rate: 0.333 | epsilon: 0.798 | time: 23.5 seconds\n",
      "Epoch: 012/999 | Loss: 0.0015 | Steps: 146 | Win count: 4 | Win rate: 0.308 | epsilon: 0.790 | time: 25.8 seconds\n",
      "Epoch: 013/999 | Loss: 0.0017 | Steps: 152 | Win count: 4 | Win rate: 0.286 | epsilon: 0.782 | time: 28.5 seconds\n",
      "Epoch: 014/999 | Loss: 0.0015 | Steps: 143 | Win count: 4 | Win rate: 0.267 | epsilon: 0.774 | time: 30.9 seconds\n",
      "Epoch: 015/999 | Loss: 0.0016 | Steps: 6 | Win count: 5 | Win rate: 0.312 | epsilon: 0.766 | time: 31.0 seconds\n",
      "Epoch: 016/999 | Loss: 0.0014 | Steps: 145 | Win count: 5 | Win rate: 0.294 | epsilon: 0.759 | time: 33.4 seconds\n",
      "Epoch: 017/999 | Loss: 0.0008 | Steps: 156 | Win count: 5 | Win rate: 0.278 | epsilon: 0.751 | time: 36.2 seconds\n",
      "Epoch: 018/999 | Loss: 0.0017 | Steps: 158 | Win count: 5 | Win rate: 0.263 | epsilon: 0.744 | time: 38.9 seconds\n",
      "Epoch: 019/999 | Loss: 0.0014 | Steps: 144 | Win count: 5 | Win rate: 0.250 | epsilon: 0.736 | time: 41.1 seconds\n",
      "Epoch: 020/999 | Loss: 0.0019 | Steps: 56 | Win count: 6 | Win rate: 0.286 | epsilon: 0.729 | time: 42.0 seconds\n",
      "Epoch: 021/999 | Loss: 0.0020 | Steps: 144 | Win count: 6 | Win rate: 0.273 | epsilon: 0.721 | time: 44.3 seconds\n",
      "Epoch: 022/999 | Loss: 0.0132 | Steps: 163 | Win count: 6 | Win rate: 0.261 | epsilon: 0.714 | time: 46.9 seconds\n",
      "Epoch: 023/999 | Loss: 0.0024 | Steps: 150 | Win count: 6 | Win rate: 0.250 | epsilon: 0.707 | time: 49.4 seconds\n",
      "Epoch: 024/999 | Loss: 0.0017 | Steps: 152 | Win count: 6 | Win rate: 0.240 | epsilon: 0.700 | time: 51.8 seconds\n",
      "Epoch: 025/999 | Loss: 0.0135 | Steps: 70 | Win count: 7 | Win rate: 0.269 | epsilon: 0.693 | time: 52.9 seconds\n",
      "Epoch: 026/999 | Loss: 0.0018 | Steps: 144 | Win count: 7 | Win rate: 0.259 | epsilon: 0.686 | time: 55.1 seconds\n",
      "Epoch: 027/999 | Loss: 0.0024 | Steps: 1 | Win count: 8 | Win rate: 0.286 | epsilon: 0.679 | time: 55.2 seconds\n",
      "Epoch: 028/999 | Loss: 0.0027 | Steps: 98 | Win count: 9 | Win rate: 0.310 | epsilon: 0.672 | time: 56.7 seconds\n",
      "Epoch: 029/999 | Loss: 0.0016 | Steps: 29 | Win count: 10 | Win rate: 0.333 | epsilon: 0.666 | time: 57.2 seconds\n",
      "Epoch: 030/999 | Loss: 0.0005 | Steps: 143 | Win count: 10 | Win rate: 0.323 | epsilon: 0.659 | time: 59.4 seconds\n",
      "Epoch: 031/999 | Loss: 0.0007 | Steps: 151 | Win count: 10 | Win rate: 0.312 | epsilon: 0.652 | time: 61.7 seconds\n",
      "Epoch: 032/999 | Loss: 0.0020 | Steps: 150 | Win count: 10 | Win rate: 0.312 | epsilon: 0.646 | time: 64.1 seconds\n",
      "Epoch: 033/999 | Loss: 0.0016 | Steps: 150 | Win count: 10 | Win rate: 0.312 | epsilon: 0.639 | time: 66.5 seconds\n",
      "Epoch: 034/999 | Loss: 0.0023 | Steps: 153 | Win count: 10 | Win rate: 0.312 | epsilon: 0.633 | time: 68.9 seconds\n",
      "Epoch: 035/999 | Loss: 0.0016 | Steps: 145 | Win count: 10 | Win rate: 0.312 | epsilon: 0.627 | time: 71.2 seconds\n",
      "Epoch: 036/999 | Loss: 0.0016 | Steps: 139 | Win count: 10 | Win rate: 0.312 | epsilon: 0.621 | time: 73.5 seconds\n",
      "Epoch: 037/999 | Loss: 0.0013 | Steps: 152 | Win count: 10 | Win rate: 0.281 | epsilon: 0.614 | time: 75.9 seconds\n",
      "Epoch: 038/999 | Loss: 0.0014 | Steps: 142 | Win count: 10 | Win rate: 0.250 | epsilon: 0.608 | time: 78.2 seconds\n",
      "Epoch: 039/999 | Loss: 0.0019 | Steps: 140 | Win count: 10 | Win rate: 0.219 | epsilon: 0.602 | time: 80.4 seconds\n",
      "Epoch: 040/999 | Loss: 0.0011 | Steps: 12 | Win count: 11 | Win rate: 0.250 | epsilon: 0.596 | time: 80.6 seconds\n",
      "Epoch: 041/999 | Loss: 0.0015 | Steps: 10 | Win count: 12 | Win rate: 0.281 | epsilon: 0.590 | time: 80.7 seconds\n",
      "Epoch: 042/999 | Loss: 0.0012 | Steps: 146 | Win count: 12 | Win rate: 0.281 | epsilon: 0.584 | time: 83.0 seconds\n",
      "Epoch: 043/999 | Loss: 0.0011 | Steps: 4 | Win count: 13 | Win rate: 0.281 | epsilon: 0.578 | time: 83.1 seconds\n",
      "Epoch: 044/999 | Loss: 0.0019 | Steps: 142 | Win count: 13 | Win rate: 0.281 | epsilon: 0.573 | time: 85.3 seconds\n",
      "Epoch: 045/999 | Loss: 0.0018 | Steps: 153 | Win count: 13 | Win rate: 0.281 | epsilon: 0.567 | time: 87.7 seconds\n",
      "Epoch: 046/999 | Loss: 0.0010 | Steps: 145 | Win count: 13 | Win rate: 0.281 | epsilon: 0.561 | time: 90.0 seconds\n",
      "Epoch: 047/999 | Loss: 0.0009 | Steps: 157 | Win count: 14 | Win rate: 0.281 | epsilon: 0.556 | time: 92.4 seconds\n",
      "Epoch: 048/999 | Loss: 0.0014 | Steps: 160 | Win count: 14 | Win rate: 0.281 | epsilon: 0.550 | time: 94.9 seconds\n",
      "Epoch: 049/999 | Loss: 0.0020 | Steps: 70 | Win count: 15 | Win rate: 0.312 | epsilon: 0.545 | time: 96.0 seconds\n",
      "Epoch: 050/999 | Loss: 0.0019 | Steps: 26 | Win count: 16 | Win rate: 0.344 | epsilon: 0.539 | time: 96.4 seconds\n",
      "Epoch: 051/999 | Loss: 0.0170 | Steps: 139 | Win count: 16 | Win rate: 0.344 | epsilon: 0.534 | time: 98.6 seconds\n",
      "Epoch: 052/999 | Loss: 0.0018 | Steps: 66 | Win count: 17 | Win rate: 0.344 | epsilon: 0.528 | time: 99.6 seconds\n",
      "Epoch: 053/999 | Loss: 0.0011 | Steps: 153 | Win count: 17 | Win rate: 0.344 | epsilon: 0.523 | time: 101.9 seconds\n",
      "Epoch: 054/999 | Loss: 0.0024 | Steps: 5 | Win count: 18 | Win rate: 0.375 | epsilon: 0.518 | time: 102.0 seconds\n",
      "Epoch: 055/999 | Loss: 0.0020 | Steps: 49 | Win count: 19 | Win rate: 0.406 | epsilon: 0.513 | time: 102.8 seconds\n",
      "Epoch: 056/999 | Loss: 0.0024 | Steps: 130 | Win count: 20 | Win rate: 0.438 | epsilon: 0.508 | time: 104.8 seconds\n",
      "Epoch: 057/999 | Loss: 0.0022 | Steps: 6 | Win count: 21 | Win rate: 0.438 | epsilon: 0.502 | time: 104.9 seconds\n",
      "Epoch: 058/999 | Loss: 0.0089 | Steps: 140 | Win count: 21 | Win rate: 0.438 | epsilon: 0.497 | time: 107.2 seconds\n",
      "Epoch: 059/999 | Loss: 0.0038 | Steps: 104 | Win count: 22 | Win rate: 0.438 | epsilon: 0.492 | time: 108.8 seconds\n",
      "Epoch: 060/999 | Loss: 0.0017 | Steps: 140 | Win count: 22 | Win rate: 0.406 | epsilon: 0.488 | time: 111.0 seconds\n",
      "Epoch: 061/999 | Loss: 0.0111 | Steps: 6 | Win count: 23 | Win rate: 0.406 | epsilon: 0.483 | time: 111.1 seconds\n",
      "Epoch: 062/999 | Loss: 0.0014 | Steps: 144 | Win count: 23 | Win rate: 0.406 | epsilon: 0.478 | time: 113.4 seconds\n",
      "Epoch: 063/999 | Loss: 0.0105 | Steps: 153 | Win count: 23 | Win rate: 0.406 | epsilon: 0.473 | time: 115.8 seconds\n",
      "Epoch: 064/999 | Loss: 0.0009 | Steps: 10 | Win count: 24 | Win rate: 0.438 | epsilon: 0.468 | time: 115.9 seconds\n",
      "Epoch: 065/999 | Loss: 0.0013 | Steps: 144 | Win count: 24 | Win rate: 0.438 | epsilon: 0.464 | time: 118.2 seconds\n",
      "Epoch: 066/999 | Loss: 0.0013 | Steps: 144 | Win count: 24 | Win rate: 0.438 | epsilon: 0.459 | time: 120.5 seconds\n",
      "Epoch: 067/999 | Loss: 0.0011 | Steps: 142 | Win count: 24 | Win rate: 0.438 | epsilon: 0.454 | time: 122.7 seconds\n",
      "Epoch: 068/999 | Loss: 0.0015 | Steps: 151 | Win count: 24 | Win rate: 0.438 | epsilon: 0.450 | time: 125.1 seconds\n",
      "Epoch: 069/999 | Loss: 0.0016 | Steps: 141 | Win count: 25 | Win rate: 0.469 | epsilon: 0.445 | time: 127.4 seconds\n",
      "Epoch: 070/999 | Loss: 0.0155 | Steps: 155 | Win count: 25 | Win rate: 0.469 | epsilon: 0.441 | time: 129.9 seconds\n",
      "Epoch: 071/999 | Loss: 0.0020 | Steps: 147 | Win count: 25 | Win rate: 0.469 | epsilon: 0.436 | time: 132.2 seconds\n",
      "Epoch: 072/999 | Loss: 0.0026 | Steps: 58 | Win count: 26 | Win rate: 0.469 | epsilon: 0.432 | time: 133.1 seconds\n",
      "Epoch: 073/999 | Loss: 0.0042 | Steps: 29 | Win count: 27 | Win rate: 0.469 | epsilon: 0.428 | time: 133.6 seconds\n",
      "Epoch: 074/999 | Loss: 0.0011 | Steps: 147 | Win count: 27 | Win rate: 0.469 | epsilon: 0.424 | time: 136.0 seconds\n",
      "Epoch: 075/999 | Loss: 0.0014 | Steps: 54 | Win count: 28 | Win rate: 0.469 | epsilon: 0.419 | time: 136.8 seconds\n",
      "Epoch: 076/999 | Loss: 0.0018 | Steps: 153 | Win count: 28 | Win rate: 0.469 | epsilon: 0.415 | time: 139.2 seconds\n",
      "Epoch: 077/999 | Loss: 0.0023 | Steps: 138 | Win count: 28 | Win rate: 0.469 | epsilon: 0.411 | time: 141.4 seconds\n",
      "Epoch: 078/999 | Loss: 0.0016 | Steps: 150 | Win count: 28 | Win rate: 0.469 | epsilon: 0.407 | time: 143.7 seconds\n",
      "Epoch: 079/999 | Loss: 0.0024 | Steps: 146 | Win count: 28 | Win rate: 0.438 | epsilon: 0.403 | time: 146.0 seconds\n",
      "Epoch: 080/999 | Loss: 0.0020 | Steps: 149 | Win count: 29 | Win rate: 0.469 | epsilon: 0.399 | time: 148.4 seconds\n",
      "Epoch: 081/999 | Loss: 0.0017 | Steps: 150 | Win count: 29 | Win rate: 0.438 | epsilon: 0.395 | time: 150.8 seconds\n",
      "Epoch: 082/999 | Loss: 0.0074 | Steps: 101 | Win count: 30 | Win rate: 0.438 | epsilon: 0.391 | time: 152.4 seconds\n",
      "Epoch: 083/999 | Loss: 0.0015 | Steps: 143 | Win count: 30 | Win rate: 0.438 | epsilon: 0.387 | time: 154.7 seconds\n",
      "Epoch: 084/999 | Loss: 0.0019 | Steps: 7 | Win count: 31 | Win rate: 0.438 | epsilon: 0.383 | time: 154.8 seconds\n",
      "Epoch: 085/999 | Loss: 0.0025 | Steps: 48 | Win count: 32 | Win rate: 0.469 | epsilon: 0.379 | time: 155.6 seconds\n",
      "Epoch: 086/999 | Loss: 0.0028 | Steps: 47 | Win count: 33 | Win rate: 0.469 | epsilon: 0.375 | time: 156.3 seconds\n",
      "Epoch: 087/999 | Loss: 0.0021 | Steps: 15 | Win count: 34 | Win rate: 0.469 | epsilon: 0.372 | time: 156.5 seconds\n",
      "Epoch: 088/999 | Loss: 0.0018 | Steps: 27 | Win count: 35 | Win rate: 0.469 | epsilon: 0.368 | time: 157.0 seconds\n",
      "Epoch: 089/999 | Loss: 0.0021 | Steps: 140 | Win count: 35 | Win rate: 0.438 | epsilon: 0.364 | time: 159.2 seconds\n",
      "Epoch: 090/999 | Loss: 0.0017 | Steps: 58 | Win count: 36 | Win rate: 0.469 | epsilon: 0.361 | time: 160.1 seconds\n",
      "Epoch: 091/999 | Loss: 0.0012 | Steps: 10 | Win count: 37 | Win rate: 0.469 | epsilon: 0.357 | time: 160.2 seconds\n",
      "Epoch: 092/999 | Loss: 0.0022 | Steps: 140 | Win count: 37 | Win rate: 0.469 | epsilon: 0.353 | time: 162.5 seconds\n",
      "Epoch: 093/999 | Loss: 0.0011 | Steps: 137 | Win count: 37 | Win rate: 0.438 | epsilon: 0.350 | time: 164.7 seconds\n",
      "Epoch: 094/999 | Loss: 0.0013 | Steps: 30 | Win count: 38 | Win rate: 0.469 | epsilon: 0.346 | time: 165.1 seconds\n",
      "Epoch: 095/999 | Loss: 0.0015 | Steps: 154 | Win count: 38 | Win rate: 0.469 | epsilon: 0.343 | time: 167.6 seconds\n",
      "Epoch: 096/999 | Loss: 0.0007 | Steps: 9 | Win count: 39 | Win rate: 0.469 | epsilon: 0.340 | time: 167.7 seconds\n",
      "Epoch: 097/999 | Loss: 0.0010 | Steps: 27 | Win count: 40 | Win rate: 0.500 | epsilon: 0.336 | time: 168.2 seconds\n",
      "Epoch: 098/999 | Loss: 0.0016 | Steps: 151 | Win count: 40 | Win rate: 0.500 | epsilon: 0.333 | time: 170.6 seconds\n",
      "Epoch: 099/999 | Loss: 0.0014 | Steps: 105 | Win count: 41 | Win rate: 0.531 | epsilon: 0.329 | time: 172.3 seconds\n",
      "Epoch: 100/999 | Loss: 0.0016 | Steps: 57 | Win count: 42 | Win rate: 0.562 | epsilon: 0.326 | time: 173.2 seconds\n",
      "Epoch: 101/999 | Loss: 0.0026 | Steps: 151 | Win count: 42 | Win rate: 0.531 | epsilon: 0.323 | time: 175.6 seconds\n",
      "Epoch: 102/999 | Loss: 0.0009 | Steps: 149 | Win count: 42 | Win rate: 0.531 | epsilon: 0.320 | time: 178.1 seconds\n",
      "Epoch: 103/999 | Loss: 0.0024 | Steps: 147 | Win count: 42 | Win rate: 0.531 | epsilon: 0.316 | time: 180.5 seconds\n",
      "Epoch: 104/999 | Loss: 0.0090 | Steps: 21 | Win count: 43 | Win rate: 0.531 | epsilon: 0.313 | time: 180.8 seconds\n",
      "Epoch: 105/999 | Loss: 0.0015 | Steps: 154 | Win count: 43 | Win rate: 0.500 | epsilon: 0.310 | time: 183.3 seconds\n",
      "Epoch: 106/999 | Loss: 0.0029 | Steps: 41 | Win count: 44 | Win rate: 0.531 | epsilon: 0.307 | time: 183.9 seconds\n",
      "Epoch: 107/999 | Loss: 0.0026 | Steps: 54 | Win count: 45 | Win rate: 0.531 | epsilon: 0.304 | time: 184.8 seconds\n",
      "Epoch: 108/999 | Loss: 0.0058 | Steps: 144 | Win count: 45 | Win rate: 0.531 | epsilon: 0.301 | time: 187.1 seconds\n",
      "Epoch: 109/999 | Loss: 0.0047 | Steps: 151 | Win count: 45 | Win rate: 0.531 | epsilon: 0.298 | time: 189.5 seconds\n",
      "Epoch: 110/999 | Loss: 0.0020 | Steps: 45 | Win count: 46 | Win rate: 0.562 | epsilon: 0.295 | time: 190.2 seconds\n",
      "Epoch: 111/999 | Loss: 0.0016 | Steps: 149 | Win count: 46 | Win rate: 0.562 | epsilon: 0.292 | time: 192.5 seconds\n",
      "Epoch: 112/999 | Loss: 0.0031 | Steps: 146 | Win count: 46 | Win rate: 0.531 | epsilon: 0.289 | time: 194.9 seconds\n",
      "Epoch: 113/999 | Loss: 0.0012 | Steps: 4 | Win count: 47 | Win rate: 0.562 | epsilon: 0.286 | time: 194.9 seconds\n",
      "Epoch: 114/999 | Loss: 0.0021 | Steps: 148 | Win count: 47 | Win rate: 0.531 | epsilon: 0.283 | time: 197.2 seconds\n",
      "Epoch: 115/999 | Loss: 0.0014 | Steps: 141 | Win count: 47 | Win rate: 0.531 | epsilon: 0.280 | time: 199.4 seconds\n",
      "Epoch: 116/999 | Loss: 0.0033 | Steps: 37 | Win count: 48 | Win rate: 0.531 | epsilon: 0.278 | time: 200.0 seconds\n",
      "Epoch: 117/999 | Loss: 0.0008 | Steps: 157 | Win count: 48 | Win rate: 0.500 | epsilon: 0.275 | time: 202.5 seconds\n",
      "Epoch: 118/999 | Loss: 0.0014 | Steps: 102 | Win count: 49 | Win rate: 0.500 | epsilon: 0.272 | time: 204.1 seconds\n",
      "Epoch: 119/999 | Loss: 0.0020 | Steps: 9 | Win count: 50 | Win rate: 0.500 | epsilon: 0.269 | time: 204.2 seconds\n",
      "Epoch: 120/999 | Loss: 0.0046 | Steps: 18 | Win count: 51 | Win rate: 0.500 | epsilon: 0.267 | time: 204.5 seconds\n",
      "Epoch: 121/999 | Loss: 0.0053 | Steps: 18 | Win count: 52 | Win rate: 0.531 | epsilon: 0.264 | time: 204.8 seconds\n",
      "Epoch: 122/999 | Loss: 0.0022 | Steps: 85 | Win count: 53 | Win rate: 0.531 | epsilon: 0.261 | time: 206.2 seconds\n",
      "Epoch: 123/999 | Loss: 0.0021 | Steps: 112 | Win count: 54 | Win rate: 0.531 | epsilon: 0.259 | time: 208.0 seconds\n",
      "Epoch: 124/999 | Loss: 0.0040 | Steps: 149 | Win count: 54 | Win rate: 0.531 | epsilon: 0.256 | time: 210.4 seconds\n",
      "Epoch: 125/999 | Loss: 0.0021 | Steps: 14 | Win count: 55 | Win rate: 0.562 | epsilon: 0.254 | time: 210.6 seconds\n",
      "Epoch: 126/999 | Loss: 0.0015 | Steps: 11 | Win count: 56 | Win rate: 0.562 | epsilon: 0.251 | time: 210.8 seconds\n",
      "Epoch: 127/999 | Loss: 0.0011 | Steps: 50 | Win count: 57 | Win rate: 0.594 | epsilon: 0.249 | time: 211.6 seconds\n",
      "Epoch: 128/999 | Loss: 0.0031 | Steps: 144 | Win count: 57 | Win rate: 0.562 | epsilon: 0.246 | time: 213.9 seconds\n",
      "Epoch: 129/999 | Loss: 0.0026 | Steps: 141 | Win count: 57 | Win rate: 0.531 | epsilon: 0.244 | time: 216.1 seconds\n",
      "Epoch: 130/999 | Loss: 0.0016 | Steps: 141 | Win count: 57 | Win rate: 0.531 | epsilon: 0.241 | time: 218.3 seconds\n",
      "Epoch: 131/999 | Loss: 0.0018 | Steps: 9 | Win count: 58 | Win rate: 0.531 | epsilon: 0.239 | time: 218.4 seconds\n",
      "Epoch: 132/999 | Loss: 0.0011 | Steps: 141 | Win count: 58 | Win rate: 0.500 | epsilon: 0.236 | time: 220.6 seconds\n",
      "Epoch: 133/999 | Loss: 0.0032 | Steps: 34 | Win count: 59 | Win rate: 0.531 | epsilon: 0.234 | time: 221.2 seconds\n",
      "Epoch: 134/999 | Loss: 0.0016 | Steps: 143 | Win count: 59 | Win rate: 0.531 | epsilon: 0.232 | time: 223.4 seconds\n",
      "Epoch: 135/999 | Loss: 0.0026 | Steps: 42 | Win count: 60 | Win rate: 0.562 | epsilon: 0.229 | time: 224.1 seconds\n",
      "Epoch: 136/999 | Loss: 0.0014 | Steps: 152 | Win count: 60 | Win rate: 0.531 | epsilon: 0.227 | time: 226.5 seconds\n",
      "Epoch: 137/999 | Loss: 0.0006 | Steps: 24 | Win count: 61 | Win rate: 0.562 | epsilon: 0.225 | time: 226.9 seconds\n",
      "Epoch: 138/999 | Loss: 0.0010 | Steps: 4 | Win count: 62 | Win rate: 0.562 | epsilon: 0.223 | time: 227.0 seconds\n",
      "Epoch: 139/999 | Loss: 0.0016 | Steps: 150 | Win count: 62 | Win rate: 0.531 | epsilon: 0.220 | time: 229.4 seconds\n",
      "Epoch: 140/999 | Loss: 0.0018 | Steps: 128 | Win count: 63 | Win rate: 0.562 | epsilon: 0.218 | time: 231.6 seconds\n",
      "Epoch: 141/999 | Loss: 0.0016 | Steps: 144 | Win count: 63 | Win rate: 0.562 | epsilon: 0.216 | time: 233.8 seconds\n",
      "Epoch: 142/999 | Loss: 0.0022 | Steps: 12 | Win count: 64 | Win rate: 0.562 | epsilon: 0.214 | time: 234.0 seconds\n",
      "Epoch: 143/999 | Loss: 0.0012 | Steps: 57 | Win count: 65 | Win rate: 0.594 | epsilon: 0.212 | time: 234.8 seconds\n",
      "Epoch: 144/999 | Loss: 0.0028 | Steps: 90 | Win count: 66 | Win rate: 0.625 | epsilon: 0.210 | time: 236.3 seconds\n",
      "Epoch: 145/999 | Loss: 0.0024 | Steps: 24 | Win count: 67 | Win rate: 0.625 | epsilon: 0.207 | time: 236.6 seconds\n",
      "Epoch: 146/999 | Loss: 0.0020 | Steps: 156 | Win count: 67 | Win rate: 0.625 | epsilon: 0.205 | time: 239.1 seconds\n",
      "Epoch: 147/999 | Loss: 0.0053 | Steps: 2 | Win count: 68 | Win rate: 0.656 | epsilon: 0.203 | time: 239.1 seconds\n",
      "Epoch: 148/999 | Loss: 0.0008 | Steps: 140 | Win count: 68 | Win rate: 0.625 | epsilon: 0.201 | time: 241.3 seconds\n",
      "Epoch: 149/999 | Loss: 0.0023 | Steps: 71 | Win count: 69 | Win rate: 0.656 | epsilon: 0.199 | time: 242.5 seconds\n",
      "Epoch: 150/999 | Loss: 0.0013 | Steps: 9 | Win count: 70 | Win rate: 0.656 | epsilon: 0.197 | time: 242.6 seconds\n",
      "Epoch: 151/999 | Loss: 0.0033 | Steps: 44 | Win count: 71 | Win rate: 0.656 | epsilon: 0.195 | time: 243.3 seconds\n",
      "Epoch: 152/999 | Loss: 0.0027 | Steps: 142 | Win count: 71 | Win rate: 0.625 | epsilon: 0.193 | time: 245.5 seconds\n",
      "Epoch: 153/999 | Loss: 0.0179 | Steps: 139 | Win count: 72 | Win rate: 0.625 | epsilon: 0.191 | time: 247.7 seconds\n",
      "Epoch: 154/999 | Loss: 0.0018 | Steps: 4 | Win count: 73 | Win rate: 0.625 | epsilon: 0.190 | time: 247.7 seconds\n",
      "Epoch: 155/999 | Loss: 0.0041 | Steps: 139 | Win count: 73 | Win rate: 0.594 | epsilon: 0.188 | time: 249.9 seconds\n",
      "Epoch: 156/999 | Loss: 0.0016 | Steps: 74 | Win count: 74 | Win rate: 0.625 | epsilon: 0.186 | time: 251.1 seconds\n",
      "Epoch: 157/999 | Loss: 0.0014 | Steps: 64 | Win count: 75 | Win rate: 0.625 | epsilon: 0.184 | time: 252.1 seconds\n",
      "Epoch: 158/999 | Loss: 0.0029 | Steps: 62 | Win count: 76 | Win rate: 0.625 | epsilon: 0.182 | time: 253.0 seconds\n",
      "Epoch: 159/999 | Loss: 0.0012 | Steps: 13 | Win count: 77 | Win rate: 0.625 | epsilon: 0.180 | time: 253.2 seconds\n",
      "Epoch: 160/999 | Loss: 0.0014 | Steps: 1 | Win count: 78 | Win rate: 0.656 | epsilon: 0.178 | time: 253.2 seconds\n",
      "Epoch: 161/999 | Loss: 0.0015 | Steps: 150 | Win count: 78 | Win rate: 0.656 | epsilon: 0.177 | time: 255.6 seconds\n",
      "Epoch: 162/999 | Loss: 0.0014 | Steps: 9 | Win count: 79 | Win rate: 0.688 | epsilon: 0.175 | time: 255.7 seconds\n",
      "Epoch: 163/999 | Loss: 0.0024 | Steps: 57 | Win count: 80 | Win rate: 0.688 | epsilon: 0.173 | time: 256.6 seconds\n",
      "Epoch: 164/999 | Loss: 0.0041 | Steps: 108 | Win count: 81 | Win rate: 0.719 | epsilon: 0.171 | time: 258.4 seconds\n",
      "Epoch: 165/999 | Loss: 0.0023 | Steps: 73 | Win count: 82 | Win rate: 0.719 | epsilon: 0.170 | time: 259.5 seconds\n",
      "Epoch: 166/999 | Loss: 0.0024 | Steps: 154 | Win count: 82 | Win rate: 0.719 | epsilon: 0.168 | time: 261.9 seconds\n",
      "Epoch: 167/999 | Loss: 0.0042 | Steps: 77 | Win count: 83 | Win rate: 0.719 | epsilon: 0.166 | time: 263.1 seconds\n",
      "Epoch: 168/999 | Loss: 0.0045 | Steps: 142 | Win count: 83 | Win rate: 0.719 | epsilon: 0.165 | time: 265.4 seconds\n",
      "Epoch: 169/999 | Loss: 0.0028 | Steps: 142 | Win count: 83 | Win rate: 0.688 | epsilon: 0.163 | time: 267.7 seconds\n",
      "Epoch: 170/999 | Loss: 0.0016 | Steps: 61 | Win count: 84 | Win rate: 0.688 | epsilon: 0.161 | time: 268.6 seconds\n",
      "Epoch: 171/999 | Loss: 0.0023 | Steps: 30 | Win count: 85 | Win rate: 0.719 | epsilon: 0.160 | time: 269.1 seconds\n",
      "Epoch: 172/999 | Loss: 0.0018 | Steps: 10 | Win count: 86 | Win rate: 0.719 | epsilon: 0.158 | time: 269.3 seconds\n",
      "Epoch: 173/999 | Loss: 0.0019 | Steps: 84 | Win count: 87 | Win rate: 0.750 | epsilon: 0.157 | time: 270.6 seconds\n",
      "Epoch: 174/999 | Loss: 0.0018 | Steps: 37 | Win count: 88 | Win rate: 0.750 | epsilon: 0.155 | time: 271.2 seconds\n",
      "Epoch: 175/999 | Loss: 0.0020 | Steps: 2 | Win count: 89 | Win rate: 0.750 | epsilon: 0.153 | time: 271.2 seconds\n",
      "Epoch: 176/999 | Loss: 0.0014 | Steps: 101 | Win count: 90 | Win rate: 0.750 | epsilon: 0.152 | time: 272.8 seconds\n",
      "Epoch: 177/999 | Loss: 0.0023 | Steps: 57 | Win count: 91 | Win rate: 0.750 | epsilon: 0.150 | time: 273.7 seconds\n",
      "Epoch: 178/999 | Loss: 0.0017 | Steps: 56 | Win count: 92 | Win rate: 0.781 | epsilon: 0.149 | time: 274.5 seconds\n",
      "Epoch: 179/999 | Loss: 0.0022 | Steps: 45 | Win count: 93 | Win rate: 0.781 | epsilon: 0.147 | time: 275.2 seconds\n",
      "Epoch: 180/999 | Loss: 0.0018 | Steps: 26 | Win count: 94 | Win rate: 0.812 | epsilon: 0.146 | time: 275.6 seconds\n",
      "Epoch: 181/999 | Loss: 0.0020 | Steps: 4 | Win count: 95 | Win rate: 0.812 | epsilon: 0.144 | time: 275.7 seconds\n",
      "Epoch: 182/999 | Loss: 0.0020 | Steps: 45 | Win count: 96 | Win rate: 0.812 | epsilon: 0.143 | time: 276.4 seconds\n",
      "Epoch: 183/999 | Loss: 0.0036 | Steps: 144 | Win count: 96 | Win rate: 0.781 | epsilon: 0.142 | time: 278.7 seconds\n",
      "Epoch: 184/999 | Loss: 0.0021 | Steps: 76 | Win count: 97 | Win rate: 0.812 | epsilon: 0.140 | time: 279.9 seconds\n",
      "Epoch: 185/999 | Loss: 0.0021 | Steps: 4 | Win count: 98 | Win rate: 0.812 | epsilon: 0.139 | time: 280.0 seconds\n",
      "Epoch: 186/999 | Loss: 0.0073 | Steps: 14 | Win count: 99 | Win rate: 0.812 | epsilon: 0.137 | time: 280.2 seconds\n",
      "Epoch: 187/999 | Loss: 0.0018 | Steps: 40 | Win count: 100 | Win rate: 0.844 | epsilon: 0.136 | time: 280.8 seconds\n",
      "Epoch: 188/999 | Loss: 0.0021 | Steps: 5 | Win count: 101 | Win rate: 0.844 | epsilon: 0.135 | time: 280.9 seconds\n",
      "Epoch: 189/999 | Loss: 0.0017 | Steps: 22 | Win count: 102 | Win rate: 0.844 | epsilon: 0.133 | time: 281.3 seconds\n",
      "Epoch: 190/999 | Loss: 0.0024 | Steps: 12 | Win count: 103 | Win rate: 0.844 | epsilon: 0.132 | time: 281.5 seconds\n",
      "Epoch: 191/999 | Loss: 0.0029 | Steps: 25 | Win count: 104 | Win rate: 0.844 | epsilon: 0.131 | time: 281.8 seconds\n",
      "Epoch: 192/999 | Loss: 0.0037 | Steps: 48 | Win count: 105 | Win rate: 0.844 | epsilon: 0.129 | time: 282.6 seconds\n",
      "Epoch: 193/999 | Loss: 0.0024 | Steps: 10 | Win count: 106 | Win rate: 0.875 | epsilon: 0.128 | time: 282.8 seconds\n",
      "Epoch: 194/999 | Loss: 0.0029 | Steps: 75 | Win count: 107 | Win rate: 0.875 | epsilon: 0.127 | time: 283.9 seconds\n",
      "Epoch: 195/999 | Loss: 0.0020 | Steps: 120 | Win count: 108 | Win rate: 0.875 | epsilon: 0.126 | time: 285.8 seconds\n",
      "Epoch: 196/999 | Loss: 0.0016 | Steps: 115 | Win count: 109 | Win rate: 0.875 | epsilon: 0.124 | time: 287.7 seconds\n",
      "Epoch: 197/999 | Loss: 0.0015 | Steps: 63 | Win count: 110 | Win rate: 0.875 | epsilon: 0.123 | time: 288.7 seconds\n",
      "Epoch: 198/999 | Loss: 0.0020 | Steps: 61 | Win count: 111 | Win rate: 0.906 | epsilon: 0.122 | time: 289.6 seconds\n",
      "Epoch: 199/999 | Loss: 0.0025 | Steps: 6 | Win count: 112 | Win rate: 0.906 | epsilon: 0.121 | time: 289.7 seconds\n",
      "Epoch: 200/999 | Loss: 0.0021 | Steps: 10 | Win count: 113 | Win rate: 0.938 | epsilon: 0.119 | time: 289.9 seconds\n",
      "Epoch: 201/999 | Loss: 0.0031 | Steps: 64 | Win count: 114 | Win rate: 0.969 | epsilon: 0.118 | time: 290.9 seconds\n",
      "Epoch: 202/999 | Loss: 0.0117 | Steps: 128 | Win count: 115 | Win rate: 0.969 | epsilon: 0.117 | time: 293.0 seconds\n",
      "Epoch: 203/999 | Loss: 0.0025 | Steps: 48 | Win count: 116 | Win rate: 0.969 | epsilon: 0.116 | time: 293.7 seconds\n",
      "Epoch: 204/999 | Loss: 0.0038 | Steps: 47 | Win count: 117 | Win rate: 0.969 | epsilon: 0.115 | time: 294.5 seconds\n",
      "Epoch: 205/999 | Loss: 0.0033 | Steps: 31 | Win count: 118 | Win rate: 0.969 | epsilon: 0.114 | time: 295.0 seconds\n",
      "Epoch: 206/999 | Loss: 0.0021 | Steps: 18 | Win count: 119 | Win rate: 0.969 | epsilon: 0.112 | time: 295.3 seconds\n",
      "Epoch: 207/999 | Loss: 0.0021 | Steps: 49 | Win count: 120 | Win rate: 0.969 | epsilon: 0.111 | time: 296.1 seconds\n",
      "Epoch: 208/999 | Loss: 0.0011 | Steps: 20 | Win count: 121 | Win rate: 0.969 | epsilon: 0.110 | time: 296.4 seconds\n",
      "Epoch: 209/999 | Loss: 0.0056 | Steps: 9 | Win count: 122 | Win rate: 0.969 | epsilon: 0.109 | time: 296.5 seconds\n",
      "Epoch: 210/999 | Loss: 0.0016 | Steps: 21 | Win count: 123 | Win rate: 0.969 | epsilon: 0.108 | time: 296.8 seconds\n",
      "Epoch: 211/999 | Loss: 0.0025 | Steps: 21 | Win count: 124 | Win rate: 0.969 | epsilon: 0.107 | time: 297.2 seconds\n",
      "Epoch: 212/999 | Loss: 0.0027 | Steps: 28 | Win count: 125 | Win rate: 0.969 | epsilon: 0.106 | time: 297.7 seconds\n",
      "Epoch: 213/999 | Loss: 0.0018 | Steps: 12 | Win count: 126 | Win rate: 0.969 | epsilon: 0.105 | time: 297.9 seconds\n",
      "Epoch: 214/999 | Loss: 0.0022 | Steps: 36 | Win count: 127 | Win rate: 0.969 | epsilon: 0.104 | time: 298.4 seconds\n",
      "Epoch: 215/999 | Loss: 0.0017 | Steps: 18 | Win count: 128 | Win rate: 1.000 | epsilon: 0.103 | time: 298.7 seconds\n",
      "Epoch: 216/999 | Loss: 0.0026 | Steps: 21 | Win count: 129 | Win rate: 1.000 | epsilon: 0.102 | time: 299.1 seconds\n",
      "Epoch: 217/999 | Loss: 0.0036 | Steps: 19 | Win count: 130 | Win rate: 1.000 | epsilon: 0.101 | time: 299.4 seconds\n",
      "Epoch: 218/999 | Loss: 0.0026 | Steps: 6 | Win count: 131 | Win rate: 1.000 | epsilon: 0.100 | time: 299.5 seconds\n",
      "Epoch: 219/999 | Loss: 0.0017 | Steps: 19 | Win count: 132 | Win rate: 1.000 | epsilon: 0.100 | time: 299.9 seconds\n",
      "Epoch: 220/999 | Loss: 0.0015 | Steps: 70 | Win count: 133 | Win rate: 1.000 | epsilon: 0.100 | time: 301.0 seconds\n",
      "Epoch: 221/999 | Loss: 0.0018 | Steps: 15 | Win count: 134 | Win rate: 1.000 | epsilon: 0.100 | time: 301.3 seconds\n",
      "Epoch: 222/999 | Loss: 0.0021 | Steps: 4 | Win count: 135 | Win rate: 1.000 | epsilon: 0.100 | time: 301.5 seconds\n",
      "Epoch: 223/999 | Loss: 0.0030 | Steps: 1 | Win count: 136 | Win rate: 1.000 | epsilon: 0.100 | time: 301.5 seconds\n",
      "Epoch: 224/999 | Loss: 0.0020 | Steps: 17 | Win count: 137 | Win rate: 1.000 | epsilon: 0.100 | time: 301.8 seconds\n",
      "Epoch: 225/999 | Loss: 0.0026 | Steps: 64 | Win count: 138 | Win rate: 1.000 | epsilon: 0.100 | time: 303.0 seconds\n",
      "Epoch: 226/999 | Loss: 0.0017 | Steps: 33 | Win count: 139 | Win rate: 1.000 | epsilon: 0.100 | time: 303.6 seconds\n",
      "Epoch: 227/999 | Loss: 0.0015 | Steps: 21 | Win count: 140 | Win rate: 1.000 | epsilon: 0.100 | time: 304.1 seconds\n",
      "Epoch: 228/999 | Loss: 0.0022 | Steps: 62 | Win count: 141 | Win rate: 1.000 | epsilon: 0.100 | time: 305.1 seconds\n",
      "Epoch: 229/999 | Loss: 0.0017 | Steps: 46 | Win count: 142 | Win rate: 1.000 | epsilon: 0.100 | time: 305.9 seconds\n",
      "Epoch: 230/999 | Loss: 0.0021 | Steps: 5 | Win count: 143 | Win rate: 1.000 | epsilon: 0.100 | time: 306.0 seconds\n",
      "Epoch: 231/999 | Loss: 0.0031 | Steps: 26 | Win count: 144 | Win rate: 1.000 | epsilon: 0.100 | time: 306.6 seconds\n",
      "Epoch: 232/999 | Loss: 0.0032 | Steps: 21 | Win count: 145 | Win rate: 1.000 | epsilon: 0.100 | time: 307.1 seconds\n",
      "Epoch: 233/999 | Loss: 0.0022 | Steps: 45 | Win count: 146 | Win rate: 1.000 | epsilon: 0.100 | time: 307.9 seconds\n",
      "Epoch: 234/999 | Loss: 0.0020 | Steps: 17 | Win count: 147 | Win rate: 1.000 | epsilon: 0.100 | time: 308.2 seconds\n",
      "Epoch: 235/999 | Loss: 0.0015 | Steps: 9 | Win count: 148 | Win rate: 1.000 | epsilon: 0.100 | time: 308.6 seconds\n",
      "Epoch: 236/999 | Loss: 0.0025 | Steps: 46 | Win count: 149 | Win rate: 1.000 | epsilon: 0.100 | time: 309.4 seconds\n",
      "Epoch: 237/999 | Loss: 0.0018 | Steps: 32 | Win count: 150 | Win rate: 1.000 | epsilon: 0.100 | time: 309.9 seconds\n",
      "Epoch: 238/999 | Loss: 0.0032 | Steps: 49 | Win count: 151 | Win rate: 1.000 | epsilon: 0.100 | time: 310.8 seconds\n",
      "Epoch: 239/999 | Loss: 0.0015 | Steps: 34 | Win count: 152 | Win rate: 1.000 | epsilon: 0.100 | time: 311.4 seconds\n",
      "Epoch: 240/999 | Loss: 0.0018 | Steps: 13 | Win count: 153 | Win rate: 1.000 | epsilon: 0.100 | time: 311.7 seconds\n",
      "Epoch: 241/999 | Loss: 0.0021 | Steps: 10 | Win count: 154 | Win rate: 1.000 | epsilon: 0.100 | time: 312.0 seconds\n",
      "Epoch: 242/999 | Loss: 0.0014 | Steps: 32 | Win count: 155 | Win rate: 1.000 | epsilon: 0.100 | time: 312.7 seconds\n",
      "Epoch: 243/999 | Loss: 0.0020 | Steps: 7 | Win count: 156 | Win rate: 1.000 | epsilon: 0.100 | time: 312.9 seconds\n",
      "Epoch: 244/999 | Loss: 0.0012 | Steps: 9 | Win count: 157 | Win rate: 1.000 | epsilon: 0.100 | time: 313.2 seconds\n",
      "Epoch: 245/999 | Loss: 0.0010 | Steps: 15 | Win count: 158 | Win rate: 1.000 | epsilon: 0.100 | time: 313.5 seconds\n",
      "Epoch: 246/999 | Loss: 0.0015 | Steps: 37 | Win count: 159 | Win rate: 1.000 | epsilon: 0.100 | time: 314.1 seconds\n",
      "Epoch: 247/999 | Loss: 0.0026 | Steps: 29 | Win count: 160 | Win rate: 1.000 | epsilon: 0.100 | time: 314.6 seconds\n",
      "Epoch: 248/999 | Loss: 0.0016 | Steps: 1 | Win count: 161 | Win rate: 1.000 | epsilon: 0.100 | time: 314.7 seconds\n",
      "Epoch: 249/999 | Loss: 0.0019 | Steps: 11 | Win count: 162 | Win rate: 1.000 | epsilon: 0.100 | time: 314.9 seconds\n",
      "Epoch: 250/999 | Loss: 0.0022 | Steps: 31 | Win count: 163 | Win rate: 1.000 | epsilon: 0.100 | time: 315.4 seconds\n",
      "Epoch: 251/999 | Loss: 0.0055 | Steps: 143 | Win count: 163 | Win rate: 0.969 | epsilon: 0.100 | time: 317.8 seconds\n",
      "Epoch: 252/999 | Loss: 0.0021 | Steps: 6 | Win count: 164 | Win rate: 0.969 | epsilon: 0.100 | time: 317.9 seconds\n",
      "Epoch: 253/999 | Loss: 0.0118 | Steps: 21 | Win count: 165 | Win rate: 0.969 | epsilon: 0.100 | time: 318.2 seconds\n",
      "Epoch: 254/999 | Loss: 0.0026 | Steps: 25 | Win count: 166 | Win rate: 0.969 | epsilon: 0.100 | time: 318.7 seconds\n",
      "Epoch: 255/999 | Loss: 0.0038 | Steps: 4 | Win count: 167 | Win rate: 0.969 | epsilon: 0.100 | time: 318.7 seconds\n",
      "Epoch: 256/999 | Loss: 0.0021 | Steps: 28 | Win count: 168 | Win rate: 0.969 | epsilon: 0.100 | time: 319.2 seconds\n",
      "Epoch: 257/999 | Loss: 0.0017 | Steps: 16 | Win count: 169 | Win rate: 0.969 | epsilon: 0.100 | time: 319.4 seconds\n",
      "Epoch: 258/999 | Loss: 0.0019 | Steps: 9 | Win count: 170 | Win rate: 0.969 | epsilon: 0.100 | time: 319.5 seconds\n",
      "Epoch: 259/999 | Loss: 0.0015 | Steps: 3 | Win count: 171 | Win rate: 0.969 | epsilon: 0.100 | time: 319.6 seconds\n",
      "Epoch: 260/999 | Loss: 0.0016 | Steps: 21 | Win count: 172 | Win rate: 0.969 | epsilon: 0.100 | time: 319.9 seconds\n",
      "Epoch: 261/999 | Loss: 0.0022 | Steps: 35 | Win count: 173 | Win rate: 0.969 | epsilon: 0.100 | time: 320.5 seconds\n",
      "Epoch: 262/999 | Loss: 0.0015 | Steps: 23 | Win count: 174 | Win rate: 0.969 | epsilon: 0.100 | time: 320.8 seconds\n",
      "Epoch: 263/999 | Loss: 0.0024 | Steps: 4 | Win count: 175 | Win rate: 0.969 | epsilon: 0.100 | time: 320.9 seconds\n",
      "Epoch: 264/999 | Loss: 0.0018 | Steps: 34 | Win count: 176 | Win rate: 0.969 | epsilon: 0.100 | time: 321.4 seconds\n",
      "Epoch: 265/999 | Loss: 0.0023 | Steps: 16 | Win count: 177 | Win rate: 0.969 | epsilon: 0.100 | time: 321.7 seconds\n",
      "Epoch: 266/999 | Loss: 0.0021 | Steps: 7 | Win count: 178 | Win rate: 0.969 | epsilon: 0.100 | time: 321.8 seconds\n",
      "Epoch: 267/999 | Loss: 0.0018 | Steps: 14 | Win count: 179 | Win rate: 0.969 | epsilon: 0.100 | time: 322.0 seconds\n",
      "Epoch: 268/999 | Loss: 0.0067 | Steps: 30 | Win count: 180 | Win rate: 0.969 | epsilon: 0.100 | time: 322.5 seconds\n",
      "Epoch: 269/999 | Loss: 0.0018 | Steps: 2 | Win count: 181 | Win rate: 0.969 | epsilon: 0.100 | time: 322.5 seconds\n",
      "Epoch: 270/999 | Loss: 0.0016 | Steps: 12 | Win count: 182 | Win rate: 0.969 | epsilon: 0.100 | time: 322.7 seconds\n",
      "Epoch: 271/999 | Loss: 0.0020 | Steps: 30 | Win count: 183 | Win rate: 0.969 | epsilon: 0.100 | time: 323.2 seconds\n",
      "Epoch: 272/999 | Loss: 0.0008 | Steps: 19 | Win count: 184 | Win rate: 0.969 | epsilon: 0.100 | time: 323.5 seconds\n",
      "Epoch: 273/999 | Loss: 0.0013 | Steps: 35 | Win count: 185 | Win rate: 0.969 | epsilon: 0.100 | time: 324.0 seconds\n",
      "Epoch: 274/999 | Loss: 0.0014 | Steps: 21 | Win count: 186 | Win rate: 0.969 | epsilon: 0.100 | time: 324.4 seconds\n",
      "Epoch: 275/999 | Loss: 0.0006 | Steps: 31 | Win count: 187 | Win rate: 0.969 | epsilon: 0.100 | time: 324.9 seconds\n",
      "Epoch: 276/999 | Loss: 0.0008 | Steps: 4 | Win count: 188 | Win rate: 0.969 | epsilon: 0.100 | time: 324.9 seconds\n",
      "Epoch: 277/999 | Loss: 0.0007 | Steps: 11 | Win count: 189 | Win rate: 0.969 | epsilon: 0.100 | time: 325.1 seconds\n",
      "Epoch: 278/999 | Loss: 0.0011 | Steps: 37 | Win count: 190 | Win rate: 0.969 | epsilon: 0.100 | time: 325.7 seconds\n",
      "Epoch: 279/999 | Loss: 0.0008 | Steps: 7 | Win count: 191 | Win rate: 0.969 | epsilon: 0.100 | time: 325.8 seconds\n",
      "Epoch: 280/999 | Loss: 0.0018 | Steps: 10 | Win count: 192 | Win rate: 0.969 | epsilon: 0.100 | time: 325.9 seconds\n",
      "Epoch: 281/999 | Loss: 0.0014 | Steps: 7 | Win count: 193 | Win rate: 0.969 | epsilon: 0.100 | time: 326.0 seconds\n",
      "Epoch: 282/999 | Loss: 0.0016 | Steps: 7 | Win count: 194 | Win rate: 0.969 | epsilon: 0.100 | time: 326.2 seconds\n",
      "Epoch: 283/999 | Loss: 0.0012 | Steps: 14 | Win count: 195 | Win rate: 1.000 | epsilon: 0.100 | time: 326.4 seconds\n",
      "Epoch: 284/999 | Loss: 0.0015 | Steps: 11 | Win count: 196 | Win rate: 1.000 | epsilon: 0.100 | time: 326.6 seconds\n",
      "Epoch: 285/999 | Loss: 0.0025 | Steps: 2 | Win count: 197 | Win rate: 1.000 | epsilon: 0.100 | time: 326.8 seconds\n",
      "Epoch: 286/999 | Loss: 0.0019 | Steps: 9 | Win count: 198 | Win rate: 1.000 | epsilon: 0.100 | time: 326.9 seconds\n",
      "Epoch: 287/999 | Loss: 0.0032 | Steps: 25 | Win count: 199 | Win rate: 1.000 | epsilon: 0.100 | time: 327.4 seconds\n",
      "Epoch: 288/999 | Loss: 0.0027 | Steps: 4 | Win count: 200 | Win rate: 1.000 | epsilon: 0.100 | time: 327.5 seconds\n",
      "Epoch: 289/999 | Loss: 0.0018 | Steps: 9 | Win count: 201 | Win rate: 1.000 | epsilon: 0.100 | time: 327.7 seconds\n",
      "Epoch: 290/999 | Loss: 0.0018 | Steps: 26 | Win count: 202 | Win rate: 1.000 | epsilon: 0.100 | time: 328.3 seconds\n",
      "Epoch: 291/999 | Loss: 0.0009 | Steps: 24 | Win count: 203 | Win rate: 1.000 | epsilon: 0.100 | time: 328.7 seconds\n",
      "Epoch: 292/999 | Loss: 0.0026 | Steps: 32 | Win count: 204 | Win rate: 1.000 | epsilon: 0.100 | time: 329.2 seconds\n",
      "Epoch: 293/999 | Loss: 0.0011 | Steps: 13 | Win count: 205 | Win rate: 1.000 | epsilon: 0.100 | time: 329.6 seconds\n",
      "Epoch: 294/999 | Loss: 0.0015 | Steps: 21 | Win count: 206 | Win rate: 1.000 | epsilon: 0.100 | time: 329.9 seconds\n",
      "Epoch: 295/999 | Loss: 0.0010 | Steps: 6 | Win count: 207 | Win rate: 1.000 | epsilon: 0.100 | time: 330.1 seconds\n",
      "Epoch: 296/999 | Loss: 0.0015 | Steps: 32 | Win count: 208 | Win rate: 1.000 | epsilon: 0.100 | time: 330.8 seconds\n",
      "Epoch: 297/999 | Loss: 0.0010 | Steps: 41 | Win count: 209 | Win rate: 1.000 | epsilon: 0.100 | time: 331.5 seconds\n",
      "Epoch: 298/999 | Loss: 0.0024 | Steps: 32 | Win count: 210 | Win rate: 1.000 | epsilon: 0.100 | time: 332.2 seconds\n",
      "Epoch: 299/999 | Loss: 0.0017 | Steps: 25 | Win count: 211 | Win rate: 1.000 | epsilon: 0.100 | time: 332.7 seconds\n",
      "Epoch: 300/999 | Loss: 0.0008 | Steps: 17 | Win count: 212 | Win rate: 1.000 | epsilon: 0.100 | time: 333.0 seconds\n",
      "Epoch: 301/999 | Loss: 0.0160 | Steps: 4 | Win count: 213 | Win rate: 1.000 | epsilon: 0.100 | time: 333.1 seconds\n",
      "Epoch: 302/999 | Loss: 0.0052 | Steps: 9 | Win count: 214 | Win rate: 1.000 | epsilon: 0.100 | time: 333.3 seconds\n",
      "Epoch: 303/999 | Loss: 0.0013 | Steps: 75 | Win count: 215 | Win rate: 1.000 | epsilon: 0.100 | time: 334.9 seconds\n",
      "Epoch: 304/999 | Loss: 0.0019 | Steps: 44 | Win count: 216 | Win rate: 1.000 | epsilon: 0.100 | time: 335.7 seconds\n",
      "Epoch: 305/999 | Loss: 0.0050 | Steps: 9 | Win count: 217 | Win rate: 1.000 | epsilon: 0.100 | time: 335.9 seconds\n",
      "Epoch: 306/999 | Loss: 0.0041 | Steps: 77 | Win count: 218 | Win rate: 1.000 | epsilon: 0.100 | time: 337.4 seconds\n",
      "Epoch: 307/999 | Loss: 0.0031 | Steps: 1 | Win count: 219 | Win rate: 1.000 | epsilon: 0.100 | time: 337.4 seconds\n",
      "Epoch: 308/999 | Loss: 0.0026 | Steps: 20 | Win count: 220 | Win rate: 1.000 | epsilon: 0.100 | time: 337.8 seconds\n",
      "Epoch: 309/999 | Loss: 0.0203 | Steps: 32 | Win count: 221 | Win rate: 1.000 | epsilon: 0.100 | time: 338.5 seconds\n",
      "Epoch: 310/999 | Loss: 0.0091 | Steps: 36 | Win count: 222 | Win rate: 1.000 | epsilon: 0.100 | time: 339.1 seconds\n",
      "Epoch: 311/999 | Loss: 0.0028 | Steps: 53 | Win count: 223 | Win rate: 1.000 | epsilon: 0.100 | time: 340.2 seconds\n",
      "Epoch: 312/999 | Loss: 0.0010 | Steps: 31 | Win count: 224 | Win rate: 1.000 | epsilon: 0.100 | time: 340.7 seconds\n",
      "Epoch: 313/999 | Loss: 0.0066 | Steps: 53 | Win count: 225 | Win rate: 1.000 | epsilon: 0.100 | time: 341.6 seconds\n",
      "Epoch: 314/999 | Loss: 0.0079 | Steps: 28 | Win count: 226 | Win rate: 1.000 | epsilon: 0.100 | time: 342.1 seconds\n",
      "Epoch: 315/999 | Loss: 0.0038 | Steps: 30 | Win count: 227 | Win rate: 1.000 | epsilon: 0.100 | time: 342.7 seconds\n",
      "Epoch: 316/999 | Loss: 0.0022 | Steps: 40 | Win count: 228 | Win rate: 1.000 | epsilon: 0.100 | time: 343.3 seconds\n",
      "Epoch: 317/999 | Loss: 0.0026 | Steps: 30 | Win count: 229 | Win rate: 1.000 | epsilon: 0.100 | time: 344.0 seconds\n",
      "Epoch: 318/999 | Loss: 0.0015 | Steps: 67 | Win count: 230 | Win rate: 1.000 | epsilon: 0.100 | time: 345.2 seconds\n",
      "Epoch: 319/999 | Loss: 0.0075 | Steps: 54 | Win count: 231 | Win rate: 1.000 | epsilon: 0.100 | time: 346.2 seconds\n",
      "Epoch: 320/999 | Loss: 0.0022 | Steps: 41 | Win count: 232 | Win rate: 1.000 | epsilon: 0.100 | time: 346.9 seconds\n",
      "Epoch: 321/999 | Loss: 0.0064 | Steps: 1 | Win count: 233 | Win rate: 1.000 | epsilon: 0.100 | time: 346.9 seconds\n",
      "Epoch: 322/999 | Loss: 0.0028 | Steps: 12 | Win count: 234 | Win rate: 1.000 | epsilon: 0.100 | time: 347.2 seconds\n",
      "Epoch: 323/999 | Loss: 0.0018 | Steps: 19 | Win count: 235 | Win rate: 1.000 | epsilon: 0.100 | time: 347.5 seconds\n",
      "Epoch: 324/999 | Loss: 0.0013 | Steps: 10 | Win count: 236 | Win rate: 1.000 | epsilon: 0.100 | time: 347.7 seconds\n",
      "Epoch: 325/999 | Loss: 0.0023 | Steps: 7 | Win count: 237 | Win rate: 1.000 | epsilon: 0.100 | time: 347.8 seconds\n",
      "Epoch: 326/999 | Loss: 0.0025 | Steps: 1 | Win count: 238 | Win rate: 1.000 | epsilon: 0.100 | time: 348.0 seconds\n",
      "Epoch: 327/999 | Loss: 0.0022 | Steps: 15 | Win count: 239 | Win rate: 1.000 | epsilon: 0.100 | time: 348.3 seconds\n",
      "Epoch: 328/999 | Loss: 0.0019 | Steps: 35 | Win count: 240 | Win rate: 1.000 | epsilon: 0.100 | time: 348.9 seconds\n",
      "Epoch: 329/999 | Loss: 0.0017 | Steps: 31 | Win count: 241 | Win rate: 1.000 | epsilon: 0.100 | time: 349.4 seconds\n",
      "Epoch: 330/999 | Loss: 0.0038 | Steps: 47 | Win count: 242 | Win rate: 1.000 | epsilon: 0.100 | time: 350.2 seconds\n",
      "Epoch: 331/999 | Loss: 0.0052 | Steps: 34 | Win count: 243 | Win rate: 1.000 | epsilon: 0.100 | time: 350.8 seconds\n",
      "Epoch: 332/999 | Loss: 0.0019 | Steps: 25 | Win count: 244 | Win rate: 1.000 | epsilon: 0.100 | time: 351.4 seconds\n",
      "Epoch: 333/999 | Loss: 0.0032 | Steps: 8 | Win count: 245 | Win rate: 1.000 | epsilon: 0.100 | time: 351.6 seconds\n",
      "Epoch: 334/999 | Loss: 0.0011 | Steps: 32 | Win count: 246 | Win rate: 1.000 | epsilon: 0.100 | time: 352.2 seconds\n",
      "Epoch: 335/999 | Loss: 0.0021 | Steps: 30 | Win count: 247 | Win rate: 1.000 | epsilon: 0.100 | time: 352.8 seconds\n",
      "Epoch: 336/999 | Loss: 0.0063 | Steps: 19 | Win count: 248 | Win rate: 1.000 | epsilon: 0.100 | time: 353.2 seconds\n",
      "Epoch: 337/999 | Loss: 0.0056 | Steps: 1 | Win count: 249 | Win rate: 1.000 | epsilon: 0.100 | time: 353.3 seconds\n",
      "Epoch: 338/999 | Loss: 0.0048 | Steps: 7 | Win count: 250 | Win rate: 1.000 | epsilon: 0.100 | time: 353.4 seconds\n",
      "Epoch: 339/999 | Loss: 0.0014 | Steps: 2 | Win count: 251 | Win rate: 1.000 | epsilon: 0.100 | time: 353.5 seconds\n",
      "Epoch: 340/999 | Loss: 0.0017 | Steps: 30 | Win count: 252 | Win rate: 1.000 | epsilon: 0.100 | time: 354.0 seconds\n",
      "Epoch: 341/999 | Loss: 0.0025 | Steps: 30 | Win count: 253 | Win rate: 1.000 | epsilon: 0.100 | time: 354.7 seconds\n",
      "Epoch: 342/999 | Loss: 0.0010 | Steps: 33 | Win count: 254 | Win rate: 1.000 | epsilon: 0.100 | time: 355.3 seconds\n",
      "Epoch: 343/999 | Loss: 0.0011 | Steps: 1 | Win count: 255 | Win rate: 1.000 | epsilon: 0.100 | time: 355.3 seconds\n",
      "Epoch: 344/999 | Loss: 0.0017 | Steps: 10 | Win count: 256 | Win rate: 1.000 | epsilon: 0.100 | time: 355.7 seconds\n",
      "Epoch: 345/999 | Loss: 0.0037 | Steps: 22 | Win count: 257 | Win rate: 1.000 | epsilon: 0.100 | time: 356.1 seconds\n",
      "Epoch: 346/999 | Loss: 0.0023 | Steps: 28 | Win count: 258 | Win rate: 1.000 | epsilon: 0.100 | time: 356.6 seconds\n",
      "Epoch: 347/999 | Loss: 0.0022 | Steps: 32 | Win count: 259 | Win rate: 1.000 | epsilon: 0.100 | time: 357.2 seconds\n",
      "Epoch: 348/999 | Loss: 0.0011 | Steps: 39 | Win count: 260 | Win rate: 1.000 | epsilon: 0.100 | time: 357.8 seconds\n",
      "Epoch: 349/999 | Loss: 0.0016 | Steps: 5 | Win count: 261 | Win rate: 1.000 | epsilon: 0.100 | time: 358.0 seconds\n",
      "Epoch: 350/999 | Loss: 0.0018 | Steps: 36 | Win count: 262 | Win rate: 1.000 | epsilon: 0.100 | time: 358.8 seconds\n",
      "Epoch: 351/999 | Loss: 0.0038 | Steps: 146 | Win count: 262 | Win rate: 0.969 | epsilon: 0.100 | time: 361.2 seconds\n",
      "Epoch: 352/999 | Loss: 0.0046 | Steps: 107 | Win count: 263 | Win rate: 0.969 | epsilon: 0.100 | time: 363.0 seconds\n",
      "Epoch: 353/999 | Loss: 0.0030 | Steps: 64 | Win count: 264 | Win rate: 0.969 | epsilon: 0.100 | time: 364.0 seconds\n",
      "Epoch: 354/999 | Loss: 0.0034 | Steps: 11 | Win count: 265 | Win rate: 0.969 | epsilon: 0.100 | time: 364.2 seconds\n",
      "Epoch: 355/999 | Loss: 0.0032 | Steps: 13 | Win count: 266 | Win rate: 0.969 | epsilon: 0.100 | time: 364.4 seconds\n",
      "Epoch: 356/999 | Loss: 0.0037 | Steps: 36 | Win count: 267 | Win rate: 0.969 | epsilon: 0.100 | time: 365.0 seconds\n",
      "Epoch: 357/999 | Loss: 0.0041 | Steps: 3 | Win count: 268 | Win rate: 0.969 | epsilon: 0.100 | time: 365.1 seconds\n",
      "Epoch: 358/999 | Loss: 0.0081 | Steps: 43 | Win count: 269 | Win rate: 0.969 | epsilon: 0.100 | time: 365.7 seconds\n",
      "Epoch: 359/999 | Loss: 0.0033 | Steps: 25 | Win count: 270 | Win rate: 0.969 | epsilon: 0.100 | time: 366.2 seconds\n",
      "Epoch: 360/999 | Loss: 0.0024 | Steps: 33 | Win count: 271 | Win rate: 0.969 | epsilon: 0.100 | time: 366.7 seconds\n",
      "Epoch: 361/999 | Loss: 0.0021 | Steps: 37 | Win count: 272 | Win rate: 0.969 | epsilon: 0.100 | time: 367.3 seconds\n",
      "Epoch: 362/999 | Loss: 0.0019 | Steps: 15 | Win count: 273 | Win rate: 0.969 | epsilon: 0.100 | time: 367.6 seconds\n",
      "Epoch: 363/999 | Loss: 0.0048 | Steps: 34 | Win count: 274 | Win rate: 0.969 | epsilon: 0.100 | time: 368.1 seconds\n",
      "Epoch: 364/999 | Loss: 0.0024 | Steps: 22 | Win count: 275 | Win rate: 0.969 | epsilon: 0.100 | time: 368.5 seconds\n",
      "Epoch: 365/999 | Loss: 0.0012 | Steps: 21 | Win count: 276 | Win rate: 0.969 | epsilon: 0.100 | time: 368.8 seconds\n",
      "Epoch: 366/999 | Loss: 0.0033 | Steps: 19 | Win count: 277 | Win rate: 0.969 | epsilon: 0.100 | time: 369.1 seconds\n",
      "Epoch: 367/999 | Loss: 0.0026 | Steps: 38 | Win count: 278 | Win rate: 0.969 | epsilon: 0.100 | time: 369.7 seconds\n",
      "Epoch: 368/999 | Loss: 0.0018 | Steps: 43 | Win count: 279 | Win rate: 0.969 | epsilon: 0.100 | time: 370.4 seconds\n",
      "Epoch: 369/999 | Loss: 0.0017 | Steps: 19 | Win count: 280 | Win rate: 0.969 | epsilon: 0.100 | time: 370.8 seconds\n",
      "Epoch: 370/999 | Loss: 0.0027 | Steps: 38 | Win count: 281 | Win rate: 0.969 | epsilon: 0.100 | time: 371.4 seconds\n",
      "Epoch: 371/999 | Loss: 0.0012 | Steps: 37 | Win count: 282 | Win rate: 0.969 | epsilon: 0.100 | time: 372.0 seconds\n",
      "Epoch: 372/999 | Loss: 0.0017 | Steps: 27 | Win count: 283 | Win rate: 0.969 | epsilon: 0.100 | time: 372.4 seconds\n",
      "Epoch: 373/999 | Loss: 0.0023 | Steps: 35 | Win count: 284 | Win rate: 0.969 | epsilon: 0.100 | time: 373.0 seconds\n",
      "Epoch: 374/999 | Loss: 0.0047 | Steps: 40 | Win count: 285 | Win rate: 0.969 | epsilon: 0.100 | time: 373.7 seconds\n",
      "Epoch: 375/999 | Loss: 0.0059 | Steps: 10 | Win count: 286 | Win rate: 0.969 | epsilon: 0.100 | time: 373.8 seconds\n",
      "Epoch: 376/999 | Loss: 0.0042 | Steps: 7 | Win count: 287 | Win rate: 0.969 | epsilon: 0.100 | time: 373.9 seconds\n",
      "Epoch: 377/999 | Loss: 0.0018 | Steps: 20 | Win count: 288 | Win rate: 0.969 | epsilon: 0.100 | time: 374.3 seconds\n",
      "Epoch: 378/999 | Loss: 0.0018 | Steps: 1 | Win count: 289 | Win rate: 0.969 | epsilon: 0.100 | time: 374.3 seconds\n",
      "Epoch: 379/999 | Loss: 0.0017 | Steps: 26 | Win count: 290 | Win rate: 0.969 | epsilon: 0.100 | time: 374.7 seconds\n",
      "Epoch: 380/999 | Loss: 0.0021 | Steps: 26 | Win count: 291 | Win rate: 0.969 | epsilon: 0.100 | time: 375.1 seconds\n",
      "Epoch: 381/999 | Loss: 0.0017 | Steps: 51 | Win count: 292 | Win rate: 0.969 | epsilon: 0.100 | time: 376.0 seconds\n",
      "Epoch: 382/999 | Loss: 0.0040 | Steps: 9 | Win count: 293 | Win rate: 0.969 | epsilon: 0.100 | time: 376.1 seconds\n",
      "Epoch: 383/999 | Loss: 0.0015 | Steps: 21 | Win count: 294 | Win rate: 1.000 | epsilon: 0.100 | time: 376.5 seconds\n",
      "Epoch: 384/999 | Loss: 0.0024 | Steps: 27 | Win count: 295 | Win rate: 1.000 | epsilon: 0.100 | time: 377.1 seconds\n",
      "Epoch: 385/999 | Loss: 0.0018 | Steps: 4 | Win count: 296 | Win rate: 1.000 | epsilon: 0.100 | time: 377.2 seconds\n",
      "Epoch: 386/999 | Loss: 0.0012 | Steps: 19 | Win count: 297 | Win rate: 1.000 | epsilon: 0.100 | time: 377.6 seconds\n",
      "Epoch: 387/999 | Loss: 0.0015 | Steps: 18 | Win count: 298 | Win rate: 1.000 | epsilon: 0.100 | time: 378.0 seconds\n",
      "Epoch: 388/999 | Loss: 0.0008 | Steps: 27 | Win count: 299 | Win rate: 1.000 | epsilon: 0.100 | time: 378.7 seconds\n",
      "Epoch: 389/999 | Loss: 0.0010 | Steps: 24 | Win count: 300 | Win rate: 1.000 | epsilon: 0.100 | time: 379.3 seconds\n",
      "Epoch: 390/999 | Loss: 0.0024 | Steps: 37 | Win count: 301 | Win rate: 1.000 | epsilon: 0.100 | time: 380.1 seconds\n",
      "Epoch: 391/999 | Loss: 0.0025 | Steps: 15 | Win count: 302 | Win rate: 1.000 | epsilon: 0.100 | time: 380.5 seconds\n",
      "Epoch: 392/999 | Loss: 0.0012 | Steps: 27 | Win count: 303 | Win rate: 1.000 | epsilon: 0.100 | time: 381.1 seconds\n",
      "Epoch: 393/999 | Loss: 0.0013 | Steps: 25 | Win count: 304 | Win rate: 1.000 | epsilon: 0.100 | time: 381.5 seconds\n",
      "Reached 100% win rate at epoch: 393\n",
      "n_epoch: 393, max_mem: 1000, data: 32, time: 381.7 seconds\n"
     ]
    },
    {
     "data": {
      "text/plain": [
       "381.711869"
      ]
     },
     "execution_count": 62,
     "metadata": {},
     "output_type": "execute_result"
    }
   ],
   "source": [
    "model = build_model(maze)\n",
    "qtrain(model, maze, n_epoch=1000, max_memory=1000, data_size=32)"
   ]
  },
  {
   "cell_type": "markdown",
   "metadata": {},
   "source": [
    "This cell will check to see if the model passes the completion check. Note: This could take several minutes."
   ]
  },
  {
   "cell_type": "code",
   "execution_count": 63,
   "metadata": {
    "ExecuteTime": {
     "end_time": "2025-10-16T03:47:32.781317Z",
     "start_time": "2025-10-16T03:47:32.500657Z"
    }
   },
   "outputs": [
    {
     "data": {
      "text/plain": [
       "<matplotlib.image.AxesImage at 0x7fe78e074560>"
      ]
     },
     "execution_count": 63,
     "metadata": {},
     "output_type": "execute_result"
    },
    {
     "data": {
      "image/png": "[encoded data removed]",
      "text/plain": [
       "<Figure size 640x480 with 1 Axes>"
      ]
     },
     "jetTransient": {
      "display_id": null
     },
     "metadata": {},
     "output_type": "display_data"
    }
   ],
   "source": [
    "completion_check(model, qmaze)\n",
    "show(qmaze)"
   ]
  },
  {
   "cell_type": "markdown",
   "metadata": {},
   "source": [
    "This cell will test your model for one game. It will start the pirate at the top-left corner and run play_game. The agent should find a path from the starting position to the target (treasure). The treasure is located in the bottom-right corner."
   ]
  },
  {
   "cell_type": "code",
   "execution_count": 64,
   "metadata": {
    "ExecuteTime": {
     "end_time": "2025-10-16T03:47:32.871456Z",
     "start_time": "2025-10-16T03:47:32.826486Z"
    }
   },
   "outputs": [
    {
     "data": {
      "text/plain": [
       "<matplotlib.image.AxesImage at 0x7fe78ded8230>"
      ]
     },
     "execution_count": 64,
     "metadata": {},
     "output_type": "execute_result"
    },
    {
     "data": {
      "image/png": "[encoded data removed]",
      "text/plain": [
       "<Figure size 640x480 with 1 Axes>"
      ]
     },
     "jetTransient": {
      "display_id": null
     },
     "metadata": {},
     "output_type": "display_data"
    }
   ],
   "source": [
    "pirate_start = (0, 0)\n",
    "play_game(model, qmaze, pirate_start)\n",
    "show(qmaze)"
   ]
  },
  {
   "cell_type": "markdown",
   "metadata": {},
   "source": [
    "## Save and Submit Your Work\n",
    "After you have finished creating the code for your notebook, save your work.\n",
    "Make sure that your notebook contains your name in the filename (e.g. Doe_Jane_ProjectTwo.html). Download this file as an .html file clicking on ***file*** in *Jupyter Notebook*, navigating down to ***Download as*** and clicking on ***.html***. \n",
    "Download a copy of your .html file and submit it to Brightspace."
   ]
  },
  {
   "cell_type": "code",
   "execution_count": null,
   "metadata": {
    "ExecuteTime": {
     "end_time": "2025-10-16T03:47:32.879245Z",
     "start_time": "2025-10-16T03:47:32.877273Z"
    }
   },
   "outputs": [],
   "source": []
  }
 ],
 "metadata": {
  "kernelspec": {
   "display_name": "Python 3 (ipykernel)",
   "language": "python",
   "name": "python3"
  },
  "language_info": {
   "codemirror_mode": {
    "name": "ipython",
    "version": 3
   },
   "file_extension": ".py",
   "mimetype": "text/x-python",
   "name": "python",
   "nbconvert_exporter": "python",
   "pygments_lexer": "ipython3",
   "version": "3.12.3"
  }
 },
 "nbformat": 4,
 "nbformat_minor": 4
}
